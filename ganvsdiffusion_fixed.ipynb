{
 "cells": [
  {
   "cell_type": "code",
   "execution_count": 1,
   "metadata": {
    "colab": {
     "base_uri": "https://localhost:8080/"
    },
    "id": "cfN49TjsvCi_",
    "outputId": "c3ecf1ba-bf2b-43d0-bee5-0f112ffd0710"
   },
   "outputs": [
    {
     "name": "stdout",
     "output_type": "stream",
     "text": [
      "\u001b[2K   \u001b[90m━━━━━━━━━━━━━━━━━━━━━━━━━━━━━━━━━━━━━━━━\u001b[0m \u001b[32m363.4/363.4 MB\u001b[0m \u001b[31m3.6 MB/s\u001b[0m eta \u001b[36m0:00:00\u001b[0m\n",
      "\u001b[2K   \u001b[90m━━━━━━━━━━━━━━━━━━━━━━━━━━━━━━━━━━━━━━━━\u001b[0m \u001b[32m13.8/13.8 MB\u001b[0m \u001b[31m41.5 MB/s\u001b[0m eta \u001b[36m0:00:00\u001b[0m\n",
      "\u001b[2K   \u001b[90m━━━━━━━━━━━━━━━━━━━━━━━━━━━━━━━━━━━━━━━━\u001b[0m \u001b[32m24.6/24.6 MB\u001b[0m \u001b[31m28.2 MB/s\u001b[0m eta \u001b[36m0:00:00\u001b[0m\n",
      "\u001b[2K   \u001b[90m━━━━━━━━━━━━━━━━━━━━━━━━━━━━━━━━━━━━━━━━\u001b[0m \u001b[32m883.7/883.7 kB\u001b[0m \u001b[31m19.8 MB/s\u001b[0m eta \u001b[36m0:00:00\u001b[0m\n",
      "\u001b[2K   \u001b[90m━━━━━━━━━━━━━━━━━━━━━━━━━━━━━━━━━━━━━━━━\u001b[0m \u001b[32m664.8/664.8 MB\u001b[0m \u001b[31m2.7 MB/s\u001b[0m eta \u001b[36m0:00:00\u001b[0m\n",
      "\u001b[2K   \u001b[90m━━━━━━━━━━━━━━━━━━━━━━━━━━━━━━━━━━━━━━━━\u001b[0m \u001b[32m211.5/211.5 MB\u001b[0m \u001b[31m6.0 MB/s\u001b[0m eta \u001b[36m0:00:00\u001b[0m\n",
      "\u001b[2K   \u001b[90m━━━━━━━━━━━━━━━━━━━━━━━━━━━━━━━━━━━━━━━━\u001b[0m \u001b[32m56.3/56.3 MB\u001b[0m \u001b[31m10.2 MB/s\u001b[0m eta \u001b[36m0:00:00\u001b[0m\n",
      "\u001b[2K   \u001b[90m━━━━━━━━━━━━━━━━━━━━━━━━━━━━━━━━━━━━━━━━\u001b[0m \u001b[32m127.9/127.9 MB\u001b[0m \u001b[31m9.1 MB/s\u001b[0m eta \u001b[36m0:00:00\u001b[0m\n",
      "\u001b[2K   \u001b[90m━━━━━━━━━━━━━━━━━━━━━━━━━━━━━━━━━━━━━━━━\u001b[0m \u001b[32m207.5/207.5 MB\u001b[0m \u001b[31m6.1 MB/s\u001b[0m eta \u001b[36m0:00:00\u001b[0m\n",
      "\u001b[2K   \u001b[90m━━━━━━━━━━━━━━━━━━━━━━━━━━━━━━━━━━━━━━━━\u001b[0m \u001b[32m21.1/21.1 MB\u001b[0m \u001b[31m77.9 MB/s\u001b[0m eta \u001b[36m0:00:00\u001b[0m\n",
      "\u001b[?25h"
     ]
    }
   ],
   "source": [
    "# Install required Python packages for image generation and visualization\n",
    "# - torch & torchvision: For building GANs and handling tensors/images\n",
    "# - diffusers: For working with pretrained diffusion models like DDPM\n",
    "# - transformers: Needed by diffusers for model loading\n",
    "# - matplotlib: For displaying generated images\n",
    "!pip install -q torch torchvision diffusers transformers matplotlib\n"
   ]
  },
  {
   "cell_type": "code",
   "execution_count": 2,
   "metadata": {
    "id": "RTPzQiDKvIqo"
   },
   "outputs": [],
   "source": [
    "# Import PyTorch and utility functions for displaying image grids\n",
    "import torch\n",
    "from torchvision.utils import make_grid\n",
    "\n",
    "# Import plotting library to show images\n",
    "import matplotlib.pyplot as plt\n",
    "\n",
    "# Import DDPM pipeline from HuggingFace diffusers library\n",
    "from diffusers import DDPMPipeline\n",
    "\n",
    "# For transforming images (used in diffusion model image post-processing)\n",
    "from torchvision import transforms\n",
    "\n",
    "# Check if GPU is available (for faster computation), otherwise use CPU\n",
    "device = torch.device(\"cuda\" if torch.cuda.is_available() else \"cpu\")\n"
   ]
  },
  {
   "cell_type": "code",
   "execution_count": 3,
   "metadata": {
    "id": "0izOgFtCvM8q"
   },
   "outputs": [],
   "source": [
    "# Define a helper function to display a batch of generated images in a grid\n",
    "def show_images(images, title=\"Generated Images\"):\n",
    "    grid = make_grid(images, nrow=4, normalize=True)  # Create image grid\n",
    "    plt.figure(figsize=(10, 6))\n",
    "    plt.imshow(grid.permute(1, 2, 0).cpu().numpy())   # Convert tensor to image\n",
    "    plt.title(title)\n",
    "    plt.axis(\"off\")\n",
    "    plt.show()\n"
   ]
  },
  {
   "cell_type": "code",
   "execution_count": 4,
   "metadata": {
    "id": "agNP0PtqvQl3"
   },
   "outputs": [],
   "source": [
    "# Generate images using a pretrained DDPM (denoising diffusion probabilistic model)\n",
    "def generate_diffusion_images():\n",
    "    # Load a pre-trained DDPM for CIFAR-10 dataset (32x32 color images)\n",
    "    pipeline = DDPMPipeline.from_pretrained(\"google/ddpm-cifar10-32\")\n",
    "    pipeline = pipeline.to(device)  # Move to GPU if available\n",
    "\n",
    "    # Generate images with 25 steps (sampling iterations)\n",
    "    images = pipeline(num_inference_steps=25).images\n",
    "\n",
    "    # Convert PIL images to torch tensors for visualization\n",
    "    transform = transforms.Compose([\n",
    "        transforms.Resize(32),       # Ensure size is consistent\n",
    "        transforms.ToTensor()        # Convert to [0,1] tensor format\n",
    "    ])\n",
    "    images = torch.stack([transform(img) for img in images])\n",
    "    return images\n"
   ]
  },
  {
   "cell_type": "code",
   "execution_count": 5,
   "metadata": {
    "id": "-jsNCj5ovTo7"
   },
   "outputs": [],
   "source": [
    "from torch import nn\n",
    "\n",
    "# Define a simple DCGAN-like generator network using transpose convolutions\n",
    "class SimpleGenerator(nn.Module):\n",
    "    def __init__(self, nz=100):  # nz = size of the noise vector\n",
    "        super(SimpleGenerator, self).__init__()\n",
    "        self.net = nn.Sequential(\n",
    "            # Input: [batch, 100, 1, 1] -> Output: [batch, 128, 4, 4]\n",
    "            nn.ConvTranspose2d(nz, 128, 4, 1, 0, bias=False),\n",
    "            nn.BatchNorm2d(128),\n",
    "            nn.ReLU(True),\n",
    "\n",
    "            # [batch, 128, 4, 4] -> [batch, 64, 8, 8]\n",
    "            nn.ConvTranspose2d(128, 64, 4, 2, 1, bias=False),\n",
    "            nn.BatchNorm2d(64),\n",
    "            nn.ReLU(True),\n",
    "\n",
    "            # [batch, 64, 8, 8] -> [batch, 3, 16, 16]\n",
    "            nn.ConvTranspose2d(64, 3, 4, 2, 1, bias=False),\n",
    "            nn.Tanh()  # Output pixel values between -1 and 1\n",
    "        )\n",
    "\n",
    "    def forward(self, input):\n",
    "        return self.net(input)\n"
   ]
  },
  {
   "cell_type": "code",
   "execution_count": 6,
   "metadata": {
    "id": "7_Oyt8NhvWjN"
   },
   "outputs": [],
   "source": [
    "# Function to generate fake images using the GAN generator\n",
    "def generate_gan_images():\n",
    "    netG = SimpleGenerator().to(device)  # Load the generator model\n",
    "    netG.eval()  # Set to evaluation mode (no gradient updates)\n",
    "\n",
    "    z = torch.randn(16, 100, 1, 1).to(device)  # Generate random noise input\n",
    "\n",
    "    with torch.no_grad():  # Turn off gradient computation for speed\n",
    "        fake_images = netG(z)  # Generate fake images\n",
    "    return fake_images\n"
   ]
  },
  {
   "cell_type": "code",
   "execution_count": 7,
   "metadata": {
    "colab": {
     "base_uri": "https://localhost:8080/",
     "height": 1000,
     "referenced_widgets": [
      "432ef275b40d4980a5cb5a9759b023f2",
      "2dff42be62b148d89a4a999c5afae5a9",
      "b3a89810a16547d4ad052d03df0c6c5f",
      "a06bccf03ccc4ae2b6b30223ed1ba329",
      "26a14b49d5dc4561892f70b0d71de3cf",
      "8f2c5d272da64aef8cb71001dd4ecb42",
      "a541b7b6441e4f4aa841e81e85ef5328",
      "5e5c8ff4bafb43df94439c56655bc889",
      "2f5e7a8aa1604b2faab4e3f1a186814b",
      "2a9fdba4144c41ca9989e60225298ff4",
      "07afdac7911746fca6c62ce60cc122a4",
      "a61363f067e24f4a8f7becabf1c0c72c",
      "0a17b2c1475f4bd9ad16ddecfc658eae",
      "895f3e59e0564e7fa6f2d641e4854cd0",
      "13a9538072734a0b86ca5d43954afb5e",
      "2345652974214136a6df3d4a90801b20",
      "11c850c333ea4bc1af76e2566620a7ff",
      "153095a786db4809a01180318ea869f3",
      "700d3c9ffca74716bcad8d98f94a29e4",
      "65771cc5ee2f4ee2b3b3c3fb98bcce03",
      "6d2f79dc2345496ab19d16037b93d3a9",
      "bb089d4f3e4b4783a37352dadd4eabb5",
      "ea610c449f8d43919ed951c3a78e09b2",
      "6cd2229ed51641f29f972325f6f029bf",
      "24649404de1c4d08a99d663b3139996e",
      "5c1368335cf94e70b46aa42b68836020",
      "57171e32748c47a8add25b7a5d2c7f22",
      "880e9648a43a4ad198973aa0be88a1bb",
      "6a868b00482a40a882e6dff5286f1801",
      "5d4f884d0016466dadd429a4d60a1718",
      "da948dc309a54e1ab8429b9c73a61803",
      "15a65dee1b1d4189b14c08c616e4fb00",
      "ec06dc67a21744f3aa011a0e5c69363e",
      "cf37beaf6a5c45b9955e96c8c278d4bf",
      "738e05f43e0c43e39d417d918bd39dc3",
      "173d6a1a0ed44a70aaff04f1a73d69cc",
      "295423a71b1f4699bcc86750fc9d1b6a",
      "ac130b1dc19a401eb3301d5c780bbe89",
      "e33fc30eb48446118eedbde25e0203c4",
      "9b20dd81a94c42218676f24fd27d87fd",
      "8d931af55336468ba2f2a218c953433d",
      "42437d2d551c42cc96fe69dffdb55415",
      "98ec651c23c24a3386cd0ac10c9bbc68",
      "eb0354e6bdab46809b49c68957dba83e",
      "6d9161be43524ae3873faa540a7fb18f",
      "76fa940cf7e34844b41c17be80c3fb8e",
      "d5e4093d866f48b4a7f5f9b26680ad20",
      "9bf4753ab836488fb724184bfa4436a0",
      "c50d71f73828469297a4cf53b2c5e28a",
      "26ac9e9d08ee4ad3b083d943edb9b2f5",
      "4a0c472bdad54d3d964868fe51abd746",
      "41555d631bc44ebf907a0a21a90ef411",
      "a11c7142678d4ff8a6e8b9e5b8326542",
      "b4c1d4a8e9624dc3b84bff7b9b6779f5",
      "30b1b85fcdc24fc4a86faf60da88960b",
      "cbf14d5c0b354145aaaccd4f1629d396",
      "bf3bd45385474143847d4bc6469a912a",
      "4e6b6c67d9454e7a80b8dc52c37e3394",
      "567c80f4d28744a18daee6bf6caf03f7",
      "7205d1cce3fb4957aaf14a461bd44386",
      "d101fba49bb845a399ff6e5e82b69a47",
      "c9a8be1ce1534fbab4285d4a48fd2e6a",
      "e9072a41bf2d45deae18dcaea62f8328",
      "1e80d03c164043c5a6df96bd4bb0ae55",
      "8e497d6c6be943308bf079ee7ef37fde",
      "b455d369a2ca4ca7a4d5653a0a5f403b",
      "91533a4e39ad436096eeac5aa9ad5d30",
      "852cdb16780d42d2b25cb0ff008fbb22",
      "8040a3c66b534007881bd91c1a888268",
      "56328602f84641fdb909d1235856f9c5",
      "0f1d16dcb58a44469dbbb4fa84fa29aa",
      "590de9ab377b41e29b57f9585362cf36",
      "28b3945c51c7405792a8f00362d1eb82",
      "7c718122b3514746b3ebee2cceffa56d",
      "ecfb991a99f843c0976042188af41923",
      "80806f7f60b54eb293706fddef5f4b4a",
      "23e83ba95bb9401badf655ea21555da3"
     ]
    },
    "id": "N1B-EAOuvZCd",
    "outputId": "a668eff6-7a4d-4f8b-ec56-0f097802d467"
   },
   "outputs": [
    {
     "name": "stderr",
     "output_type": "stream",
     "text": [
      "/usr/local/lib/python3.11/dist-packages/huggingface_hub/utils/_auth.py:94: UserWarning: \n",
      "The secret `HF_TOKEN` does not exist in your Colab secrets.\n",
      "To authenticate with the Hugging Face Hub, create a token in your settings tab (https://huggingface.co/settings/tokens), set it as secret in your Google Colab and restart your session.\n",
      "You will be able to reuse this secret in all of your notebooks.\n",
      "Please note that authentication is recommended but still optional to access public models or datasets.\n",
      "  warnings.warn(\n"
     ]
    },
    {
     "data": {
      "application/vnd.jupyter.widget-view+json": {
       "model_id": "432ef275b40d4980a5cb5a9759b023f2",
       "version_major": 2,
       "version_minor": 0
      },
      "text/plain": [
       "model_index.json:   0%|          | 0.00/180 [00:00<?, ?B/s]"
      ]
     },
     "metadata": {},
     "output_type": "display_data"
    },
    {
     "data": {
      "application/vnd.jupyter.widget-view+json": {
       "model_id": "a61363f067e24f4a8f7becabf1c0c72c",
       "version_major": 2,
       "version_minor": 0
      },
      "text/plain": [
       "Fetching 4 files:   0%|          | 0/4 [00:00<?, ?it/s]"
      ]
     },
     "metadata": {},
     "output_type": "display_data"
    },
    {
     "data": {
      "application/vnd.jupyter.widget-view+json": {
       "model_id": "ea610c449f8d43919ed951c3a78e09b2",
       "version_major": 2,
       "version_minor": 0
      },
      "text/plain": [
       "config.json:   0%|          | 0.00/699 [00:00<?, ?B/s]"
      ]
     },
     "metadata": {},
     "output_type": "display_data"
    },
    {
     "data": {
      "application/vnd.jupyter.widget-view+json": {
       "model_id": "cf37beaf6a5c45b9955e96c8c278d4bf",
       "version_major": 2,
       "version_minor": 0
      },
      "text/plain": [
       "scheduler_config.json:   0%|          | 0.00/256 [00:00<?, ?B/s]"
      ]
     },
     "metadata": {},
     "output_type": "display_data"
    },
    {
     "data": {
      "application/vnd.jupyter.widget-view+json": {
       "model_id": "6d9161be43524ae3873faa540a7fb18f",
       "version_major": 2,
       "version_minor": 0
      },
      "text/plain": [
       "diffusion_pytorch_model.bin:   0%|          | 0.00/143M [00:00<?, ?B/s]"
      ]
     },
     "metadata": {},
     "output_type": "display_data"
    },
    {
     "data": {
      "application/vnd.jupyter.widget-view+json": {
       "model_id": "cbf14d5c0b354145aaaccd4f1629d396",
       "version_major": 2,
       "version_minor": 0
      },
      "text/plain": [
       "Loading pipeline components...:   0%|          | 0/2 [00:00<?, ?it/s]"
      ]
     },
     "metadata": {},
     "output_type": "display_data"
    },
    {
     "name": "stderr",
     "output_type": "stream",
     "text": [
      "An error occurred while trying to fetch /root/.cache/huggingface/hub/models--google--ddpm-cifar10-32/snapshots/267b167dc01f0e4e61923ea244e8b988f84deb80: Error no file named diffusion_pytorch_model.safetensors found in directory /root/.cache/huggingface/hub/models--google--ddpm-cifar10-32/snapshots/267b167dc01f0e4e61923ea244e8b988f84deb80.\n",
      "Defaulting to unsafe serialization. Pass `allow_pickle=False` to raise an error instead.\n"
     ]
    },
    {
     "data": {
      "application/vnd.jupyter.widget-view+json": {
       "model_id": "91533a4e39ad436096eeac5aa9ad5d30",
       "version_major": 2,
       "version_minor": 0
      },
      "text/plain": [
       "  0%|          | 0/25 [00:00<?, ?it/s]"
      ]
     },
     "metadata": {},
     "output_type": "display_data"
    },
    {
     "data": {
      "image/png": "[encoded data removed]",
      "text/plain": [
       "<Figure size 1000x600 with 1 Axes>"
      ]
     },
     "metadata": {},
     "output_type": "display_data"
    },
    {
     "data": {
      "image/png": "[encoded data removed]",
      "text/plain": [
       "<Figure size 1000x600 with 1 Axes>"
      ]
     },
     "metadata": {},
     "output_type": "display_data"
    }
   ],
   "source": [
    "# Generate 16 images from each model\n",
    "gan_images = generate_gan_images()             # From GAN\n",
    "diffusion_images = generate_diffusion_images() # From DDPM\n",
    "\n",
    "# Display results side by side\n",
    "show_images(gan_images, \"GAN Generated Images\")\n",
    "show_images(diffusion_images, \"Diffusion Generated Images\")\n"
   ]
  },
  {
   "cell_type": "code",
   "execution_count": 15,
   "metadata": {
    "colab": {
     "base_uri": "https://localhost:8080/"
    },
    "id": "dwNIlkcAwH7q",
    "outputId": "a2ff2f8e-68f7-4bd4-c435-0c4c17971ffd"
   },
   "outputs": [
    {
     "name": "stdout",
     "output_type": "stream",
     "text": [
      "Requirement already satisfied: torch-fidelity in /usr/local/lib/python3.11/dist-packages (0.3.0)\n",
      "Requirement already satisfied: numpy in /usr/local/lib/python3.11/dist-packages (from torch-fidelity) (2.0.2)\n",
      "Requirement already satisfied: Pillow in /usr/local/lib/python3.11/dist-packages (from torch-fidelity) (11.1.0)\n",
      "Requirement already satisfied: scipy in /usr/local/lib/python3.11/dist-packages (from torch-fidelity) (1.14.1)\n",
      "Requirement already satisfied: torch in /usr/local/lib/python3.11/dist-packages (from torch-fidelity) (2.6.0+cu124)\n",
      "Requirement already satisfied: torchvision in /usr/local/lib/python3.11/dist-packages (from torch-fidelity) (0.21.0+cu124)\n",
      "Requirement already satisfied: tqdm in /usr/local/lib/python3.11/dist-packages (from torch-fidelity) (4.67.1)\n",
      "Requirement already satisfied: filelock in /usr/local/lib/python3.11/dist-packages (from torch->torch-fidelity) (3.18.0)\n",
      "Requirement already satisfied: typing-extensions>=4.10.0 in /usr/local/lib/python3.11/dist-packages (from torch->torch-fidelity) (4.13.1)\n",
      "Requirement already satisfied: networkx in /usr/local/lib/python3.11/dist-packages (from torch->torch-fidelity) (3.4.2)\n",
      "Requirement already satisfied: jinja2 in /usr/local/lib/python3.11/dist-packages (from torch->torch-fidelity) (3.1.6)\n",
      "Requirement already satisfied: fsspec in /usr/local/lib/python3.11/dist-packages (from torch->torch-fidelity) (2025.3.2)\n",
      "Requirement already satisfied: nvidia-cuda-nvrtc-cu12==12.4.127 in /usr/local/lib/python3.11/dist-packages (from torch->torch-fidelity) (12.4.127)\n",
      "Requirement already satisfied: nvidia-cuda-runtime-cu12==12.4.127 in /usr/local/lib/python3.11/dist-packages (from torch->torch-fidelity) (12.4.127)\n",
      "Requirement already satisfied: nvidia-cuda-cupti-cu12==12.4.127 in /usr/local/lib/python3.11/dist-packages (from torch->torch-fidelity) (12.4.127)\n",
      "Requirement already satisfied: nvidia-cudnn-cu12==9.1.0.70 in /usr/local/lib/python3.11/dist-packages (from torch->torch-fidelity) (9.1.0.70)\n",
      "Requirement already satisfied: nvidia-cublas-cu12==12.4.5.8 in /usr/local/lib/python3.11/dist-packages (from torch->torch-fidelity) (12.4.5.8)\n",
      "Requirement already satisfied: nvidia-cufft-cu12==11.2.1.3 in /usr/local/lib/python3.11/dist-packages (from torch->torch-fidelity) (11.2.1.3)\n",
      "Requirement already satisfied: nvidia-curand-cu12==10.3.5.147 in /usr/local/lib/python3.11/dist-packages (from torch->torch-fidelity) (10.3.5.147)\n",
      "Requirement already satisfied: nvidia-cusolver-cu12==11.6.1.9 in /usr/local/lib/python3.11/dist-packages (from torch->torch-fidelity) (11.6.1.9)\n",
      "Requirement already satisfied: nvidia-cusparse-cu12==12.3.1.170 in /usr/local/lib/python3.11/dist-packages (from torch->torch-fidelity) (12.3.1.170)\n",
      "Requirement already satisfied: nvidia-cusparselt-cu12==0.6.2 in /usr/local/lib/python3.11/dist-packages (from torch->torch-fidelity) (0.6.2)\n",
      "Requirement already satisfied: nvidia-nccl-cu12==2.21.5 in /usr/local/lib/python3.11/dist-packages (from torch->torch-fidelity) (2.21.5)\n",
      "Requirement already satisfied: nvidia-nvtx-cu12==12.4.127 in /usr/local/lib/python3.11/dist-packages (from torch->torch-fidelity) (12.4.127)\n",
      "Requirement already satisfied: nvidia-nvjitlink-cu12==12.4.127 in /usr/local/lib/python3.11/dist-packages (from torch->torch-fidelity) (12.4.127)\n",
      "Requirement already satisfied: triton==3.2.0 in /usr/local/lib/python3.11/dist-packages (from torch->torch-fidelity) (3.2.0)\n",
      "Requirement already satisfied: sympy==1.13.1 in /usr/local/lib/python3.11/dist-packages (from torch->torch-fidelity) (1.13.1)\n",
      "Requirement already satisfied: mpmath<1.4,>=1.1.0 in /usr/local/lib/python3.11/dist-packages (from sympy==1.13.1->torch->torch-fidelity) (1.3.0)\n",
      "Requirement already satisfied: MarkupSafe>=2.0 in /usr/local/lib/python3.11/dist-packages (from jinja2->torch->torch-fidelity) (3.0.2)\n",
      "Requirement already satisfied: torchmetrics in /usr/local/lib/python3.11/dist-packages (1.7.1)\n",
      "Requirement already satisfied: torch-fidelity in /usr/local/lib/python3.11/dist-packages (0.3.0)\n",
      "Requirement already satisfied: numpy>1.20.0 in /usr/local/lib/python3.11/dist-packages (from torchmetrics) (2.0.2)\n",
      "Requirement already satisfied: packaging>17.1 in /usr/local/lib/python3.11/dist-packages (from torchmetrics) (24.2)\n",
      "Requirement already satisfied: torch>=2.0.0 in /usr/local/lib/python3.11/dist-packages (from torchmetrics) (2.6.0+cu124)\n",
      "Requirement already satisfied: lightning-utilities>=0.8.0 in /usr/local/lib/python3.11/dist-packages (from torchmetrics) (0.14.3)\n",
      "Requirement already satisfied: Pillow in /usr/local/lib/python3.11/dist-packages (from torch-fidelity) (11.1.0)\n",
      "Requirement already satisfied: scipy in /usr/local/lib/python3.11/dist-packages (from torch-fidelity) (1.14.1)\n",
      "Requirement already satisfied: torchvision in /usr/local/lib/python3.11/dist-packages (from torch-fidelity) (0.21.0+cu124)\n",
      "Requirement already satisfied: tqdm in /usr/local/lib/python3.11/dist-packages (from torch-fidelity) (4.67.1)\n",
      "Requirement already satisfied: setuptools in /usr/local/lib/python3.11/dist-packages (from lightning-utilities>=0.8.0->torchmetrics) (75.2.0)\n",
      "Requirement already satisfied: typing_extensions in /usr/local/lib/python3.11/dist-packages (from lightning-utilities>=0.8.0->torchmetrics) (4.13.1)\n",
      "Requirement already satisfied: filelock in /usr/local/lib/python3.11/dist-packages (from torch>=2.0.0->torchmetrics) (3.18.0)\n",
      "Requirement already satisfied: networkx in /usr/local/lib/python3.11/dist-packages (from torch>=2.0.0->torchmetrics) (3.4.2)\n",
      "Requirement already satisfied: jinja2 in /usr/local/lib/python3.11/dist-packages (from torch>=2.0.0->torchmetrics) (3.1.6)\n",
      "Requirement already satisfied: fsspec in /usr/local/lib/python3.11/dist-packages (from torch>=2.0.0->torchmetrics) (2025.3.2)\n",
      "Requirement already satisfied: nvidia-cuda-nvrtc-cu12==12.4.127 in /usr/local/lib/python3.11/dist-packages (from torch>=2.0.0->torchmetrics) (12.4.127)\n",
      "Requirement already satisfied: nvidia-cuda-runtime-cu12==12.4.127 in /usr/local/lib/python3.11/dist-packages (from torch>=2.0.0->torchmetrics) (12.4.127)\n",
      "Requirement already satisfied: nvidia-cuda-cupti-cu12==12.4.127 in /usr/local/lib/python3.11/dist-packages (from torch>=2.0.0->torchmetrics) (12.4.127)\n",
      "Requirement already satisfied: nvidia-cudnn-cu12==9.1.0.70 in /usr/local/lib/python3.11/dist-packages (from torch>=2.0.0->torchmetrics) (9.1.0.70)\n",
      "Requirement already satisfied: nvidia-cublas-cu12==12.4.5.8 in /usr/local/lib/python3.11/dist-packages (from torch>=2.0.0->torchmetrics) (12.4.5.8)\n",
      "Requirement already satisfied: nvidia-cufft-cu12==11.2.1.3 in /usr/local/lib/python3.11/dist-packages (from torch>=2.0.0->torchmetrics) (11.2.1.3)\n",
      "Requirement already satisfied: nvidia-curand-cu12==10.3.5.147 in /usr/local/lib/python3.11/dist-packages (from torch>=2.0.0->torchmetrics) (10.3.5.147)\n",
      "Requirement already satisfied: nvidia-cusolver-cu12==11.6.1.9 in /usr/local/lib/python3.11/dist-packages (from torch>=2.0.0->torchmetrics) (11.6.1.9)\n",
      "Requirement already satisfied: nvidia-cusparse-cu12==12.3.1.170 in /usr/local/lib/python3.11/dist-packages (from torch>=2.0.0->torchmetrics) (12.3.1.170)\n",
      "Requirement already satisfied: nvidia-cusparselt-cu12==0.6.2 in /usr/local/lib/python3.11/dist-packages (from torch>=2.0.0->torchmetrics) (0.6.2)\n",
      "Requirement already satisfied: nvidia-nccl-cu12==2.21.5 in /usr/local/lib/python3.11/dist-packages (from torch>=2.0.0->torchmetrics) (2.21.5)\n",
      "Requirement already satisfied: nvidia-nvtx-cu12==12.4.127 in /usr/local/lib/python3.11/dist-packages (from torch>=2.0.0->torchmetrics) (12.4.127)\n",
      "Requirement already satisfied: nvidia-nvjitlink-cu12==12.4.127 in /usr/local/lib/python3.11/dist-packages (from torch>=2.0.0->torchmetrics) (12.4.127)\n",
      "Requirement already satisfied: triton==3.2.0 in /usr/local/lib/python3.11/dist-packages (from torch>=2.0.0->torchmetrics) (3.2.0)\n",
      "Requirement already satisfied: sympy==1.13.1 in /usr/local/lib/python3.11/dist-packages (from torch>=2.0.0->torchmetrics) (1.13.1)\n",
      "Requirement already satisfied: mpmath<1.4,>=1.1.0 in /usr/local/lib/python3.11/dist-packages (from sympy==1.13.1->torch>=2.0.0->torchmetrics) (1.3.0)\n",
      "Requirement already satisfied: MarkupSafe>=2.0 in /usr/local/lib/python3.11/dist-packages (from jinja2->torch>=2.0.0->torchmetrics) (3.0.2)\n"
     ]
    }
   ],
   "source": [
    "# Install required libraries for metrics\n",
    "!pip install -q torchmetrics pytorch-fid\n",
    "!pip install torch-fidelity\n",
    "!pip install --upgrade torchmetrics torch-fidelity\n",
    "\n"
   ]
  },
  {
   "cell_type": "code",
   "execution_count": 16,
   "metadata": {
    "id": "txb65KYownMh"
   },
   "outputs": [],
   "source": [
    "# Define evaluation function for a batch of images\n",
    "def evaluate_generated_images(images, real_images):\n",
    "    # Normalize fake and real images to [0, 1] range\n",
    "    images = (images + 1) / 2.0\n",
    "    real_images = (real_images + 1) / 2.0\n",
    "\n",
    "    # Resize to 299x299 for Inception network input\n",
    "    images = torch.nn.functional.interpolate(images, size=(299, 299), mode='bilinear')\n",
    "    real_images = torch.nn.functional.interpolate(real_images, size=(299, 299), mode='bilinear')\n",
    "\n",
    "    # Feed both to FID\n",
    "    fid.update(real_images, real=True)\n",
    "    fid.update(images, real=False)\n",
    "\n",
    "    # Inception Score expects only generated images\n",
    "    iscore.update(images)\n",
    "\n",
    "    # Return computed scores\n",
    "    return fid.compute().item(), iscore.compute()[0].item()\n"
   ]
  },
  {
   "cell_type": "code",
   "execution_count": 22,
   "metadata": {
    "colab": {
     "base_uri": "https://localhost:8080/"
    },
    "id": "MP0YPVP6yx-i",
    "outputId": "314e63f1-380e-402f-9a57-f9a023f01990"
   },
   "outputs": [
    {
     "name": "stdout",
     "output_type": "stream",
     "text": [
      "Requirement already satisfied: nbstripout in /usr/local/lib/python3.11/dist-packages (0.8.1)\n",
      "Requirement already satisfied: nbformat in /usr/local/lib/python3.11/dist-packages (from nbstripout) (5.10.4)\n",
      "Requirement already satisfied: fastjsonschema>=2.15 in /usr/local/lib/python3.11/dist-packages (from nbformat->nbstripout) (2.21.1)\n",
      "Requirement already satisfied: jsonschema>=2.6 in /usr/local/lib/python3.11/dist-packages (from nbformat->nbstripout) (4.23.0)\n",
      "Requirement already satisfied: jupyter-core!=5.0.*,>=4.12 in /usr/local/lib/python3.11/dist-packages (from nbformat->nbstripout) (5.7.2)\n",
      "Requirement already satisfied: traitlets>=5.1 in /usr/local/lib/python3.11/dist-packages (from nbformat->nbstripout) (5.7.1)\n",
      "Requirement already satisfied: attrs>=22.2.0 in /usr/local/lib/python3.11/dist-packages (from jsonschema>=2.6->nbformat->nbstripout) (25.3.0)\n",
      "Requirement already satisfied: jsonschema-specifications>=2023.03.6 in /usr/local/lib/python3.11/dist-packages (from jsonschema>=2.6->nbformat->nbstripout) (2024.10.1)\n",
      "Requirement already satisfied: referencing>=0.28.4 in /usr/local/lib/python3.11/dist-packages (from jsonschema>=2.6->nbformat->nbstripout) (0.36.2)\n",
      "Requirement already satisfied: rpds-py>=0.7.1 in /usr/local/lib/python3.11/dist-packages (from jsonschema>=2.6->nbformat->nbstripout) (0.24.0)\n",
      "Requirement already satisfied: platformdirs>=2.5 in /usr/local/lib/python3.11/dist-packages (from jupyter-core!=5.0.*,>=4.12->nbformat->nbstripout) (4.3.7)\n",
      "Requirement already satisfied: typing-extensions>=4.4.0 in /usr/local/lib/python3.11/dist-packages (from referencing>=0.28.4->jsonschema>=2.6->nbformat->nbstripout) (4.13.1)\n",
      "Could not strip 'ganvsdiffusion.ipynb': file not found\n"
     ]
    }
   ],
   "source": [
    "!pip install nbstripout\n",
    "!nbstripout ganvsdiffusion.ipynb"
   ]
  }
 ],
 "metadata": {
  "colab": {
   "provenance": []
  },
  "kernelspec": {
   "display_name": "Python 3",
   "name": "python3"
  },
  "language_info": {
   "name": "python"
  },
  "widgets": {
   "state": {}
  }
 },
 "nbformat": 4,
 "nbformat_minor": 0
}
